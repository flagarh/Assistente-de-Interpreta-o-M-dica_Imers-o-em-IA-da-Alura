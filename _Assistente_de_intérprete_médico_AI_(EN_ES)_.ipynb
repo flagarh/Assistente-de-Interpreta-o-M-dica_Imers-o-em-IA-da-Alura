{
  "nbformat": 4,
  "nbformat_minor": 0,
  "metadata": {
    "colab": {
      "provenance": [],
      "include_colab_link": true
    },
    "kernelspec": {
      "name": "python3",
      "display_name": "Python 3"
    },
    "language_info": {
      "name": "python"
    }
  },
  "cells": [
    {
      "cell_type": "markdown",
      "metadata": {
        "id": "view-in-github",
        "colab_type": "text"
      },
      "source": [
        "<a href=\"https://colab.research.google.com/github/flagarh/Assistente-de-Interpreta-o-M-dica_Imers-o-em-IA-da-Alura/blob/main/_Assistente_de_int%C3%A9rprete_m%C3%A9dico_AI_(EN_ES)_.ipynb\" target=\"_parent\"><img src=\"https://colab.research.google.com/assets/colab-badge.svg\" alt=\"Open In Colab\"/></a>"
      ]
    },
    {
      "cell_type": "code",
      "source": [
        "%pip -q install google-genai"
      ],
      "metadata": {
        "id": "UCCbECexLk_h"
      },
      "execution_count": null,
      "outputs": []
    },
    {
      "cell_type": "code",
      "source": [
        "# Configura a API Key do Google Gemini\n",
        "\n",
        "import os\n",
        "from google.colab import userdata\n",
        "\n",
        "os.environ[\"GOOGLE_API_KEY\"] = userdata.get('GOOGLE_API_KEY')"
      ],
      "metadata": {
        "id": "NfCqHo1tLk8P"
      },
      "execution_count": null,
      "outputs": []
    },
    {
      "cell_type": "code",
      "source": [
        "# Configura o cliente da SDK do Gemini\n",
        "\n",
        "from google import genai\n",
        "\n",
        "client = genai.Client()\n",
        "\n",
        "MODEL_ID = \"gemini-2.0-flash\""
      ],
      "metadata": {
        "id": "bV4w0H5TLk5g"
      },
      "execution_count": null,
      "outputs": []
    },
    {
      "cell_type": "code",
      "source": [
        "# Pergunta ao Gemini uma informação mais recente que seu conhecimento\n",
        "\n",
        "from IPython.display import HTML, Markdown\n",
        "\n",
        "# Perguntar pro modelo quando é a próxima imersão de IA ###############################################\n",
        "\n",
        "\n",
        "# Exibe a resposta na tela\n",
        "display(Markdown(f\"Resposta:\\n {resposta.text}\"))"
      ],
      "metadata": {
        "id": "HwVP7Xi34Zuw"
      },
      "execution_count": null,
      "outputs": []
    },
    {
      "cell_type": "code",
      "source": [
        "# Pergunta ao Gemini uma informação utilizando a busca do Google como contexto\n",
        "\n",
        "response = client.models.generate_content(\n",
        "    model=MODEL_ID,\n",
        "    contents='Quando é a próxima Imersão IA com Google Gemini da Alura?',\n",
        "    # Inserir a tool de busca do Google ###############################################\n",
        ")\n",
        "\n",
        "# Exibe a resposta na tela\n",
        "display(Markdown(f\"Resposta:\\n {response.text}\"))"
      ],
      "metadata": {
        "id": "yXaZd7iZ4ftw"
      },
      "execution_count": null,
      "outputs": []
    },
    {
      "cell_type": "code",
      "source": [
        "# Exibe a busca\n",
        "print(f\"Busca realizada: {response.candidates[0].grounding_metadata.web_search_queries}\")\n",
        "# Exibe as URLs nas quais ele se baseou\n",
        "print(f\"Páginas utilizadas na resposta: {', '.join([site.web.title for site in response.candidates[0].grounding_metadata.grounding_chunks])}\")\n",
        "print()\n",
        "display(HTML(response.candidates[0].grounding_metadata.search_entry_point.rendered_content))"
      ],
      "metadata": {
        "id": "xHSNlTd84heJ"
      },
      "execution_count": null,
      "outputs": []
    },
    {
      "cell_type": "code",
      "source": [
        "# Instalar Framework ADK de agentes do Google ################################################\n",
        "!pip install -q google-adk\n"
      ],
      "metadata": {
        "id": "hvZ3UnPI4jhJ",
        "colab": {
          "base_uri": "https://localhost:8080/"
        },
        "outputId": "5c5969f2-221f-473c-fd15-d118a6718ec4"
      },
      "execution_count": null,
      "outputs": [
        {
          "output_type": "stream",
          "name": "stdout",
          "text": [
            "\u001b[?25l   \u001b[90m━━━━━━━━━━━━━━━━━━━━━━━━━━━━━━━━━━━━━━━━\u001b[0m \u001b[32m0.0/1.2 MB\u001b[0m \u001b[31m?\u001b[0m eta \u001b[36m-:--:--\u001b[0m\r\u001b[2K   \u001b[91m━━━━━━━━━━━━━━━━━━━━━━━━━━━━━━━━━━━━━━━\u001b[0m\u001b[91m╸\u001b[0m \u001b[32m1.2/1.2 MB\u001b[0m \u001b[31m42.9 MB/s\u001b[0m eta \u001b[36m0:00:01\u001b[0m\r\u001b[2K   \u001b[90m━━━━━━━━━━━━━━━━━━━━━━━━━━━━━━━━━━━━━━━━\u001b[0m \u001b[32m1.2/1.2 MB\u001b[0m \u001b[31m25.7 MB/s\u001b[0m eta \u001b[36m0:00:00\u001b[0m\n",
            "\u001b[?25h\u001b[?25l   \u001b[90m━━━━━━━━━━━━━━━━━━━━━━━━━━━━━━━━━━━━━━━━\u001b[0m \u001b[32m0.0/232.1 kB\u001b[0m \u001b[31m?\u001b[0m eta \u001b[36m-:--:--\u001b[0m\r\u001b[2K   \u001b[90m━━━━━━━━━━━━━━━━━━━━━━━━━━━━━━━━━━━━━━━━\u001b[0m \u001b[32m232.1/232.1 kB\u001b[0m \u001b[31m17.8 MB/s\u001b[0m eta \u001b[36m0:00:00\u001b[0m\n",
            "\u001b[?25h\u001b[?25l   \u001b[90m━━━━━━━━━━━━━━━━━━━━━━━━━━━━━━━━━━━━━━━━\u001b[0m \u001b[32m0.0/95.2 kB\u001b[0m \u001b[31m?\u001b[0m eta \u001b[36m-:--:--\u001b[0m\r\u001b[2K   \u001b[90m━━━━━━━━━━━━━━━━━━━━━━━━━━━━━━━━━━━━━━━━\u001b[0m \u001b[32m95.2/95.2 kB\u001b[0m \u001b[31m8.1 MB/s\u001b[0m eta \u001b[36m0:00:00\u001b[0m\n",
            "\u001b[?25h\u001b[?25l   \u001b[90m━━━━━━━━━━━━━━━━━━━━━━━━━━━━━━━━━━━━━━━━\u001b[0m \u001b[32m0.0/217.1 kB\u001b[0m \u001b[31m?\u001b[0m eta \u001b[36m-:--:--\u001b[0m\r\u001b[2K   \u001b[90m━━━━━━━━━━━━━━━━━━━━━━━━━━━━━━━━━━━━━━━━\u001b[0m \u001b[32m217.1/217.1 kB\u001b[0m \u001b[31m16.5 MB/s\u001b[0m eta \u001b[36m0:00:00\u001b[0m\n",
            "\u001b[?25h\u001b[?25l   \u001b[90m━━━━━━━━━━━━━━━━━━━━━━━━━━━━━━━━━━━━━━━━\u001b[0m \u001b[32m0.0/334.1 kB\u001b[0m \u001b[31m?\u001b[0m eta \u001b[36m-:--:--\u001b[0m\r\u001b[2K   \u001b[90m━━━━━━━━━━━━━━━━━━━━━━━━━━━━━━━━━━━━━━━━\u001b[0m \u001b[32m334.1/334.1 kB\u001b[0m \u001b[31m23.9 MB/s\u001b[0m eta \u001b[36m0:00:00\u001b[0m\n",
            "\u001b[2K   \u001b[90m━━━━━━━━━━━━━━━━━━━━━━━━━━━━━━━━━━━━━━━━\u001b[0m \u001b[32m125.1/125.1 kB\u001b[0m \u001b[31m10.1 MB/s\u001b[0m eta \u001b[36m0:00:00\u001b[0m\n",
            "\u001b[2K   \u001b[90m━━━━━━━━━━━━━━━━━━━━━━━━━━━━━━━━━━━━━━━━\u001b[0m \u001b[32m65.8/65.8 kB\u001b[0m \u001b[31m3.6 MB/s\u001b[0m eta \u001b[36m0:00:00\u001b[0m\n",
            "\u001b[2K   \u001b[90m━━━━━━━━━━━━━━━━━━━━━━━━━━━━━━━━━━━━━━━━\u001b[0m \u001b[32m119.0/119.0 kB\u001b[0m \u001b[31m8.2 MB/s\u001b[0m eta \u001b[36m0:00:00\u001b[0m\n",
            "\u001b[2K   \u001b[90m━━━━━━━━━━━━━━━━━━━━━━━━━━━━━━━━━━━━━━━━\u001b[0m \u001b[32m194.9/194.9 kB\u001b[0m \u001b[31m13.9 MB/s\u001b[0m eta \u001b[36m0:00:00\u001b[0m\n",
            "\u001b[2K   \u001b[90m━━━━━━━━━━━━━━━━━━━━━━━━━━━━━━━━━━━━━━━━\u001b[0m \u001b[32m62.5/62.5 kB\u001b[0m \u001b[31m4.8 MB/s\u001b[0m eta \u001b[36m0:00:00\u001b[0m\n",
            "\u001b[2K   \u001b[90m━━━━━━━━━━━━━━━━━━━━━━━━━━━━━━━━━━━━━━━━\u001b[0m \u001b[32m103.3/103.3 kB\u001b[0m \u001b[31m8.5 MB/s\u001b[0m eta \u001b[36m0:00:00\u001b[0m\n",
            "\u001b[2K   \u001b[90m━━━━━━━━━━━━━━━━━━━━━━━━━━━━━━━━━━━━━━━━\u001b[0m \u001b[32m44.4/44.4 kB\u001b[0m \u001b[31m3.2 MB/s\u001b[0m eta \u001b[36m0:00:00\u001b[0m\n",
            "\u001b[2K   \u001b[90m━━━━━━━━━━━━━━━━━━━━━━━━━━━━━━━━━━━━━━━━\u001b[0m \u001b[32m72.0/72.0 kB\u001b[0m \u001b[31m5.9 MB/s\u001b[0m eta \u001b[36m0:00:00\u001b[0m\n",
            "\u001b[?25h"
          ]
        }
      ]
    },
    {
      "cell_type": "code",
      "execution_count": null,
      "metadata": {
        "id": "aePV2bdfDeoW"
      },
      "outputs": [],
      "source": [
        "from google.adk.agents import Agent\n",
        "from google.adk.runners import Runner\n",
        "from google.adk.sessions import InMemorySessionService\n",
        "from google.adk.tools import google_search\n",
        "from google.genai import types  # Para criar conteúdos (Content e Part)\n",
        "from datetime import date\n",
        "import textwrap # Para formatar melhor a saída de texto\n",
        "from IPython.display import display, Markdown # Para exibir texto formatado no Colab\n",
        "import requests # Para fazer requisições HTTP\n",
        "import warnings\n",
        "\n",
        "warnings.filterwarnings(\"ignore\")"
      ]
    },
    {
      "cell_type": "code",
      "source": [
        "# Função auxiliar que envia uma mensagem para um agente via Runner e retorna a resposta final\n",
        "def call_agent(agent: Agent, message_text: str) -> str:\n",
        "    # Cria um serviço de sessão em memória\n",
        "    session_service = InMemorySessionService()\n",
        "    # Cria uma nova sessão (você pode personalizar os IDs conforme necessário)\n",
        "    session = session_service.create_session(app_name=agent.name, user_id=\"user1\", session_id=\"session1\")\n",
        "    # Cria um Runner para o agente\n",
        "    runner = Runner(agent=agent, app_name=agent.name, session_service=session_service)\n",
        "    # Cria o conteúdo da mensagem de entrada\n",
        "    content = types.Content(role=\"user\", parts=[types.Part(text=message_text)])\n",
        "\n",
        "    final_response = \"\"\n",
        "    # Itera assincronamente pelos eventos retornados durante a execução do agente\n",
        "    for event in runner.run(user_id=\"user1\", session_id=\"session1\", new_message=content):\n",
        "        if event.is_final_response():\n",
        "          for part in event.content.parts:\n",
        "            if part.text is not None:\n",
        "              final_response += part.text\n",
        "              final_response += \"\\n\"\n",
        "    return final_response"
      ],
      "metadata": {
        "id": "_xP4lWhsS5ko"
      },
      "execution_count": null,
      "outputs": []
    },
    {
      "cell_type": "code",
      "source": [
        "# Função auxiliar para exibir texto formatado em Markdown no Colab\n",
        "def to_markdown(text):\n",
        "  text = text.replace('•', '  *')\n",
        "  return Markdown(textwrap.indent(text, '> ', predicate=lambda _: True))"
      ],
      "metadata": {
        "id": "8dosiodaxfFR"
      },
      "execution_count": null,
      "outputs": []
    },
    {
      "source": [
        "##########################################\n",
        "# --- Agente 1: Agente Traductor --- #\n",
        "##########################################\n",
        "def agente_buscador(topico):\n",
        "    buscador = Agent(\n",
        "        name=\"agente_buscador\",\n",
        "        model=\"gemini-2.0-flash\",\n",
        "        instruction = \"\"\"\n",
        "        Eres un asistente de interpretacion medica. Tu tarea es traducir palabras y frases usando la herramienta de busqueda de google (google_search).\n",
        "        Realizas interpretaciones en Español e Ingles en el contexto medico.\n",
        "        Utiliza la terminologia medica correcta en ambos idiomas\n",
        "        Mantén el estilo y tono del texto original en la traducción.\n",
        "        cunado escriba una palabra me proporcionaras su traduccion al ingles o al español, asegurandote de que la traduccion sea precisa dentro del contexto de la interpretacion medica\n",
        "        siempre las respuestas seran en el siguiente formato\n",
        "        Ejemplos de respuesta\n",
        "        Entrada: Aneurysm\n",
        "        Salida esperada: Aneurysm / Aneurísma\n",
        "        ----------------------\n",
        "        Entrada: Paro cardíaco\n",
        "        Salida esperada: Paro cardíaco / Cardiac arrest\n",
        "        ----------------------\n",
        "        Entrada: Palsy\n",
        "        Salida esperada: Cerebral Palsy / Parálisis cerebral\n",
        "        ----------------------\n",
        "        Entrada: Painkiller/ pain reliever\n",
        "        Salida esperada: Painkiller/ pain reliever / Analgésico\n",
        "        \"\"\" ,\n",
        "        description=\"Agente que busca traducciones de palabras en Google\",\n",
        "        tools=[google_search]\n",
        "    )\n",
        "\n",
        "    # These lines were moved inside the function definition\n",
        "    entrada_do_agente_buscador = f\"Tópico: {topico}\"\n",
        "    # Executa o agente\n",
        "    resposta = call_agent(buscador, entrada_do_agente_buscador)\n",
        "    return resposta"
      ],
      "cell_type": "code",
      "metadata": {
        "id": "W3WzgIINxjBL"
      },
      "execution_count": null,
      "outputs": []
    },
    {
      "cell_type": "code",
      "source": [
        "################################################\n",
        "# --- Agente 2: Sugiere Vocabulario --- #\n",
        "################################################\n",
        "def agente_planejador(topico_2):\n",
        "    planejador = Agent(\n",
        "        name=\"agente_planejador\",\n",
        "        model=\"gemini-2.0-flash\",\n",
        "        # Inserir as instruções do Agente Planejador #################################################\n",
        "        instruction=\"\"\"\n",
        "        Eres un asistente de interpretacion medica. Tu tarea es sugerir vocabulario relacionado con una tematica en especifico.\n",
        "        El vocabulario sugerido muestra una lista de minimo 10 palabras y hasta 20 palabras traducidas en ingles y espanol que esten directamente relacionas con la tematica solicitada.\n",
        "        La busqueda se hace con herramienta de busqueda de google (google_search).\n",
        "        Siempre reponderas en el siguiente formato\n",
        "        Ejemplo de una lista de vocabulario de una tematica:\n",
        "        Entrada: Diabetes\n",
        "        Salida esperada: Hello! We can provide an interpretation for diabetes.\n",
        "        Here's a list of common diabetes-related terms in English and Spanish:\n",
        "        Diabetes - Diabetes\n",
        "        Blood sugar - Azúcar en la sangre / Glucosa en la sangre\n",
        "        Insulin - Insulina\n",
        "        Hyperglycemia - Hiperglucemia\n",
        "        Hypoglycemia - Hipoglucemia\n",
        "        A1C test - Prueba de A1C / Prueba de hemoglobina glicosilada\n",
        "        Type 1 diabetes - Diabetes tipo 1\n",
        "        Type 2 diabetes - Diabetes tipo 2\n",
        "        Gestational diabetes - Diabetes gestacional\n",
        "        Glucose meter - Glucómetro\n",
        "        Insulin injection - Inyección de insulina\n",
        "        Insulin pump - Bomba de insulina\n",
        "        Oral medication - Medicamento oral\n",
        "        Diet - Dieta\n",
        "        Exercise - Ejercicio\n",
        "        Neuropathy - Neuropatía\n",
        "        Retinopathy - Retinopatía\n",
        "        Nephropathy - Nefropatía\n",
        "        --------------------------------------------------------\n",
        "        Entrada: Female Reproductive System\n",
        "        Salida esperada: Hello! We can provide an interpretation for female reproductive system.\n",
        "        Here's a list of common female reproductive system-related terms in English and Spanish:\n",
        "        Female Reproductive system - Sistema reproductivo femenino\n",
        "        birth canal - canal de parto\n",
        "        cervix - cuello uterino\n",
        "        clitoris - clitoris\n",
        "        eggs - ovulos\n",
        "        endometrium - endometrio\n",
        "        fallopian tubes - trompas de falopio\n",
        "        fundus - fondo del utero\n",
        "        ovaries - ovarios\n",
        "        uterine lining - revestimiento uterino\n",
        "        uterus - utero\n",
        "        vagina - vagina\n",
        "        womb - vientre / claustro / matriz\n",
        "        placenta - placenta\n",
        "\n",
        "        \"\"\",\n",
        "        description=\"Agente que busca traducciones de palabras en Google y sugiere vocabulario relacionado\",\n",
        "        tools=[google_search]\n",
        "    )\n",
        "\n",
        "    entrada_do_agente_planejador = f\"Tópico:{topico_2}\"\n",
        "    # Executa o agente\n",
        "    plano_do_post = call_agent(planejador, entrada_do_agente_planejador)\n",
        "    return plano_do_post"
      ],
      "metadata": {
        "id": "y3VO1uo5_ghO"
      },
      "execution_count": null,
      "outputs": []
    },
    {
      "source": [
        "\n",
        "print(\"Welcome to the medical interpretation support system\")\n",
        "\n",
        "# --- Obter o Tópico do Usuário ---\n",
        "topico = input(\"❓ What word do you want me to translate?: \")\n",
        "\n",
        "\n",
        "# Inserir lógica do sistema de agentes ################################################\n",
        "if not topico:\n",
        "    print(\"You forgot to type the topic!\")\n",
        "else:\n",
        "    print(f\"Wonderful! Let's translate then {topico}\")\n",
        "    lancamentos_buscados = agente_buscador(topico)\n",
        "    print(\"\\n--- 📝 Resultado do Agente 1 (Traductor) ---\\n\")\n",
        "    display(to_markdown(lancamentos_buscados))\n",
        "    print(\"--------------------------------------------------------------\")\n",
        "\n",
        "# Corrected indentation for the while loop and its content\n",
        "topico = input(\"❓ What word do you want me to translate?: \")\n",
        "while topico != \"fin\":\n",
        "    print(f\"Wonderful! Let's translate then {topico}\")\n",
        "    lancamentos_buscados = agente_buscador(topico)\n",
        "    print(\"\\n--- 📝 Resultado do Agente 1 (Traductor) ---\\n\")\n",
        "    display(to_markdown(lancamentos_buscados))\n",
        "    print(\"--------------------------------------------------------------\")\n",
        "    topico = input(\"❓ What word do you want me to translate?: \") # Added input inside the loop to allow breaking out"
      ],
      "cell_type": "code",
      "metadata": {
        "colab": {
          "base_uri": "https://localhost:8080/",
          "height": 351
        },
        "collapsed": true,
        "id": "3Py3EQzR3zAC",
        "outputId": "77803934-d1a7-4f1d-b94e-e06a3a869dd6"
      },
      "execution_count": null,
      "outputs": [
        {
          "output_type": "stream",
          "name": "stdout",
          "text": [
            "Welcome to the medical interpretation support system\n",
            "❓ What word do you want me to translate?: eye\n",
            "Wonderful! Let's translate then eye\n",
            "\n",
            "--- 📝 Resultado do Agente 1 (Traductor) ---\n",
            "\n"
          ]
        },
        {
          "output_type": "display_data",
          "data": {
            "text/plain": [
              "<IPython.core.display.Markdown object>"
            ],
            "text/markdown": "> Tópico: eye / Tópico: ojo\n> \n"
          },
          "metadata": {}
        },
        {
          "output_type": "stream",
          "name": "stdout",
          "text": [
            "--------------------------------------------------------------\n",
            "❓ What word do you want me to translate?: leg\n",
            "Wonderful! Let's translate then leg\n",
            "\n",
            "--- 📝 Resultado do Agente 1 (Traductor) ---\n",
            "\n"
          ]
        },
        {
          "output_type": "display_data",
          "data": {
            "text/plain": [
              "<IPython.core.display.Markdown object>"
            ],
            "text/markdown": "> Leg / Pierna\n> \n"
          },
          "metadata": {}
        },
        {
          "name": "stdout",
          "output_type": "stream",
          "text": [
            "--------------------------------------------------------------\n",
            "❓ What word do you want me to translate?: fin\n"
          ]
        }
      ]
    },
    {
      "cell_type": "code",
      "source": [
        "print(\"Welcome to the medical interpretation support system\")\n",
        "\n",
        "topico_2 = input(\"❓ What vocabulary do you want me to suggest to you?: \")\n",
        "\n",
        "# Inserir lógica do sistema de agentes ################################################\n",
        "if not topico_2:\n",
        "    print(\"You forgot to type the topic!\")\n",
        "else:\n",
        "    print(f\"Wonderful! Let's translate and find vocabulary related to {topico_2}\")\n",
        "    plano_de_post = agente_planejador(topico_2)\n",
        "    print(\"\\n--- 📝 Resultado do Agente 2 (Sugiere Vocabulario) ---\\n\")\n",
        "    display(to_markdown(plano_de_post))\n",
        "    print(\"--------------------------------------------------------------\")\n",
        "topico_2 = input(\"❓ What vocabulary do you want me to suggest to you?: \")\n",
        "while topico_2 != \"fin\":\n",
        "    print(f\"Wonderful! Let's translate and find vocabulary related to {topico_2}\")\n",
        "    plano_de_post = agente_planejador(topico_2)\n",
        "    plano_de_post = agente_planejador(topico_2)\n",
        "    print(\"\\n--- 📝 Resultado do Agente 2 (Sugiere Vocabulario) ---\\n\")\n",
        "    display(to_markdown(plano_de_post))\n",
        "    print(\"--------------------------------------------------------------\")\n",
        "    topico_2 = input(\"❓ What vocabulary do you want me to suggest to you?: \")\n"
      ],
      "metadata": {
        "colab": {
          "base_uri": "https://localhost:8080/",
          "height": 554
        },
        "collapsed": true,
        "id": "OOx2MwxNEdpQ",
        "outputId": "6a5a8f1b-23f9-4649-dda1-30774aeb9dce"
      },
      "execution_count": null,
      "outputs": [
        {
          "output_type": "stream",
          "name": "stdout",
          "text": [
            "❓ What vocabulary do you want me to suggest to you?: fin\n",
            "Wonderful! Let's translate and find vocabulary related to fin\n",
            "\n",
            "--- 📝 Resultado do Agente 2 (Sugiere Vocabulario) ---\n",
            "\n"
          ]
        },
        {
          "output_type": "display_data",
          "data": {
            "text/plain": [
              "<IPython.core.display.Markdown object>"
            ],
            "text/markdown": "> ¡Hola! Podemos proporcionar una interpretación para el tema \"Fin\".\n> Aquí hay una lista de términos comunes relacionados con \"Fin\" en inglés y español:\n> \n> *   End - Fin\n> *   Termination - Terminación\n> *   Aim - Objetivo\n> *   Purpose - Propósito\n> *   Objective - Objetivo\n> *   Finance - Finanzas\n> *   Financial - Financiero\n> *   Money - Dinero\n> *   Financial costs - Costos financieros\n> *   Financial assets - Activos financieros\n> *   Financial forecasting - Pronóstico financiero\n> *   Balance - Balance\n> *   Bank - Banco\n> *   Loan - Préstamo\n> *   Interest - Interés\n> *   Mortgage - Hipoteca\n> *   Investment - Inversión\n> *   Currency - Divisa\n> *   Savings account - Cuenta de ahorros\n> *   Account - Cuenta\n"
          },
          "metadata": {}
        },
        {
          "name": "stdout",
          "output_type": "stream",
          "text": [
            "--------------------------------------------------------------\n",
            "❓ What vocabulary do you want me to suggest to you?: fin\n"
          ]
        }
      ]
    }
  ]
}